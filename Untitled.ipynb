{
 "cells": [
  {
   "cell_type": "code",
   "execution_count": 31,
   "id": "8674463d",
   "metadata": {},
   "outputs": [
    {
     "name": "stdout",
     "output_type": "stream",
     "text": [
      "Current working directory before\n",
      "/Users/maddieblaauw/Downloads/HW1-FAST-AQ-Parser-main/tests\n",
      "\n"
     ]
    }
   ],
   "source": [
    "import os\n",
    "import pandas as pd\n",
    "import example\n",
    "os.chdir('/Users/maddieblaauw/Downloads/HW1-FAST-AQ-Parser-main/tests')\n",
    "import test_parsers\n",
    "import test_transcribe\n",
    "def current_path():\n",
    "    print(\"Current working directory before\")\n",
    "    print(os.getcwd())\n",
    "    print()\n",
    "current_path()\n",
    "os.chdir('/Users/maddieblaauw/Downloads/HW1-FAST-AQ-Parser-main/seqparser')\n",
    "import parse\n",
    "import seq\n",
    "\n",
    "os.chdir('/Users/maddieblaauw/Downloads/HW1-FAST-AQ-Parser-main')\n",
    "import example\n",
    "os.chdir('/Users/maddieblaauw/Downloads/HW1-FAST-AQ-Parser-main/tests')\n",
    "#import tests\n",
    "#import test_parsers\n",
    "#import test_transcribe\n",
    "#result_tests = tests(test_parsers,test_transcribe)\n",
    "#print_result\n",
    "\n",
    "#import tests\n",
    "#import test_parsers\n",
    "#import test_transcribe\n",
    "#result_tests = tests(test_parsers,test_transcribe)\n",
    "#print_result"
   ]
  },
  {
   "cell_type": "code",
   "execution_count": 32,
   "id": "d524b4dc",
   "metadata": {},
   "outputs": [
    {
     "data": {
      "text/plain": [
       "<module 'test_transcribe' from '/Users/maddieblaauw/Downloads/HW1-FAST-AQ-Parser-main/tests/test_transcribe.py'>"
      ]
     },
     "execution_count": 32,
     "metadata": {},
     "output_type": "execute_result"
    }
   ],
   "source": [
    "test_transcribe\n",
    "#test_reverse_transcribe"
   ]
  },
  {
   "cell_type": "code",
   "execution_count": 30,
   "id": "9802f5c2",
   "metadata": {},
   "outputs": [],
   "source": [
    "#test_FastaParser()\n",
    "#test_FastaFormat()\n",
    "#test_FastqParser()\n",
    "#test_FastqFormat()\n"
   ]
  },
  {
   "cell_type": "code",
   "execution_count": null,
   "id": "ef866c10",
   "metadata": {},
   "outputs": [],
   "source": []
  }
 ],
 "metadata": {
  "kernelspec": {
   "display_name": "Python 3 (ipykernel)",
   "language": "python",
   "name": "python3"
  },
  "language_info": {
   "codemirror_mode": {
    "name": "ipython",
    "version": 3
   },
   "file_extension": ".py",
   "mimetype": "text/x-python",
   "name": "python",
   "nbconvert_exporter": "python",
   "pygments_lexer": "ipython3",
   "version": "3.9.13"
  }
 },
 "nbformat": 4,
 "nbformat_minor": 5
}
